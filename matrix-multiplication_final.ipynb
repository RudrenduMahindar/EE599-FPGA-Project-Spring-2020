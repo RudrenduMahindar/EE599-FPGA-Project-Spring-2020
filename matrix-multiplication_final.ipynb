{
 "cells": [
  {
   "cell_type": "markdown",
   "metadata": {},
   "source": [
    "# Matrix Multiplication\n",
    "\n",
    "ADD YOUR COMMENT"
   ]
  },
  {
   "cell_type": "code",
   "execution_count": 157,
   "metadata": {},
   "outputs": [],
   "source": [
    "import time\n",
    "import numpy as np\n",
    "from pynq import Xlnk, Overlay, allocate"
   ]
  },
  {
   "cell_type": "code",
   "execution_count": 158,
   "metadata": {},
   "outputs": [],
   "source": [
    "overlay = Overlay(\"mmult.xclbin\")"
   ]
  },
  {
   "cell_type": "code",
   "execution_count": 159,
   "metadata": {},
   "outputs": [],
   "source": [
    "#taken a fixed number fixed_num in input matrices to avoid overflow\n",
    "size = 4096\n",
    "fixed_num = 4 \n",
    "in_buffer1 = allocate((size, size), np.uint32)\n",
    "in_buffer2 = allocate((size, size), np.uint32)\n",
    "out_buffer = allocate((size, size), np.uint32)"
   ]
  },
  {
   "cell_type": "code",
   "execution_count": 160,
   "metadata": {},
   "outputs": [
    {
     "data": {
      "text/plain": [
       "<Signature (a: 'int const *', b: 'int const *', c: 'int*', a_row: 'int', a_col: 'int', b_col: 'int')>"
      ]
     },
     "execution_count": 160,
     "metadata": {},
     "output_type": "execute_result"
    }
   ],
   "source": [
    "# check the name of filename.xclbin, use overlay.filename_1 to assign the kernel IP to a variable called multiplier\n",
    "multiplier = overlay.mmult_1\n",
    "multiplier.signature"
   ]
  },
  {
   "cell_type": "code",
   "execution_count": 161,
   "metadata": {},
   "outputs": [],
   "source": [
    "for i in range(size):\n",
    "    for j in range(size):\n",
    "        in_buffer1[i][j]=fixed_num\n",
    "        in_buffer2[i][j]=fixed_num\n",
    "        out_buffer[i][j]=0\n",
    "        \n",
    "# Before we can start the kernel we need to make sure that the buffers are synced to the FPGA card"
   ]
  },
  {
   "cell_type": "code",
   "execution_count": 162,
   "metadata": {},
   "outputs": [
    {
     "name": "stdout",
     "output_type": "stream",
     "text": [
      "411 ms ± 46.3 µs per loop (mean ± std. dev. of 7 runs, 1 loop each)\n"
     ]
    }
   ],
   "source": [
    "%%timeit\n",
    "in_buffer1.sync_to_device()\n",
    "in_buffer2.sync_to_device()\n",
    "\n",
    "multiplier.call(in_buffer1,in_buffer2,out_buffer,size,size,size)\n",
    "\n",
    "out_buffer.sync_from_device()"
   ]
  },
  {
   "cell_type": "code",
   "execution_count": 163,
   "metadata": {},
   "outputs": [
    {
     "name": "stdout",
     "output_type": "stream",
     "text": [
      "134 ms ± 9.96 µs per loop (mean ± std. dev. of 7 runs, 10 loops each)\n"
     ]
    }
   ],
   "source": [
    "%%timeit  #communication time for input buffers\n",
    "in_buffer1.sync_to_device()\n",
    "in_buffer2.sync_to_device()"
   ]
  },
  {
   "cell_type": "code",
   "execution_count": 164,
   "metadata": {},
   "outputs": [
    {
     "name": "stdout",
     "output_type": "stream",
     "text": [
      "210 ms ± 8.71 µs per loop (mean ± std. dev. of 7 runs, 1 loop each)\n"
     ]
    }
   ],
   "source": [
    "%%timeit #compute time\n",
    "multiplier.call(in_buffer1,in_buffer2,out_buffer,size,size,size)"
   ]
  },
  {
   "cell_type": "code",
   "execution_count": 165,
   "metadata": {},
   "outputs": [
    {
     "name": "stdout",
     "output_type": "stream",
     "text": [
      "67.2 ms ± 4.42 µs per loop (mean ± std. dev. of 7 runs, 10 loops each)\n"
     ]
    }
   ],
   "source": [
    "%%timeit  #communication time for output buffer\n",
    "out_buffer.sync_from_device()"
   ]
  },
  {
   "cell_type": "code",
   "execution_count": 166,
   "metadata": {},
   "outputs": [
    {
     "name": "stdout",
     "output_type": "stream",
     "text": [
      "--- 0.41170358657836914 seconds ---\n"
     ]
    }
   ],
   "source": [
    "start_time = time.time()\n",
    "in_buffer1.sync_to_device()\n",
    "in_buffer2.sync_to_device()\n",
    "\n",
    "multiplier.call(in_buffer1,in_buffer2,out_buffer,size,size,size)\n",
    "\n",
    "out_buffer.sync_from_device()\n",
    "stop_time = time.time()\n",
    "print(\"--- %s seconds ---\" % (stop_time - start_time))"
   ]
  },
  {
   "cell_type": "code",
   "execution_count": 167,
   "metadata": {},
   "outputs": [
    {
     "data": {
      "text/plain": [
       "65536"
      ]
     },
     "execution_count": 167,
     "metadata": {},
     "output_type": "execute_result"
    }
   ],
   "source": [
    "out_buffer[50][50]\n"
   ]
  },
  {
   "cell_type": "code",
   "execution_count": 126,
   "metadata": {},
   "outputs": [],
   "source": [
    "# deallocate the buffers and free the FPGA context using Overlay.free\n",
    "%xdel in_buffer1\n",
    "%xdel in_buffer2\n",
    "%xdel out_buffer\n",
    "overlay.free()"
   ]
  },
  {
   "cell_type": "code",
   "execution_count": 148,
   "metadata": {},
   "outputs": [],
   "source": [
    "A=np.zeros((size,size),np.uint32)\n",
    "B=np.zeros((size,size),np.uint32)\n",
    "C=np.zeros((size,size),np.uint32)"
   ]
  },
  {
   "cell_type": "code",
   "execution_count": 149,
   "metadata": {},
   "outputs": [],
   "source": [
    "for i in range(size):\n",
    "    for j in range(size):\n",
    "        A[i][j]=fixed_num\n",
    "        B[i][j]=fixed_num\n",
    "        C[i][j]=0"
   ]
  },
  {
   "cell_type": "code",
   "execution_count": 129,
   "metadata": {},
   "outputs": [],
   "source": [
    "def mat_mult(A,B,C):\n",
    "    for i in range(size): \n",
    "        for j in range(size): \n",
    "            for k in range(size): \n",
    "                C[i][j] += A[i][k] * B[k][j] "
   ]
  },
  {
   "cell_type": "code",
   "execution_count": 95,
   "metadata": {},
   "outputs": [
    {
     "name": "stdout",
     "output_type": "stream",
     "text": [
      "--- 125.15440607070923 seconds ---\n"
     ]
    }
   ],
   "source": [
    "start_time = time.time()\n",
    "mat_mult(A,B,C)\n",
    "stop_time = time.time()\n",
    "print(\"--- %s seconds ---\" % (stop_time - start_time))\n"
   ]
  },
  {
   "cell_type": "code",
   "execution_count": 96,
   "metadata": {},
   "outputs": [
    {
     "data": {
      "text/plain": [
       "8192"
      ]
     },
     "execution_count": 96,
     "metadata": {},
     "output_type": "execute_result"
    }
   ],
   "source": [
    "C[50][50]"
   ]
  },
  {
   "cell_type": "code",
   "execution_count": 130,
   "metadata": {},
   "outputs": [],
   "source": [
    "def block_mat_mult(A,B,C,blocksize):\n",
    "    for block_i in range(0,size,blocksize):\n",
    "        for block_j in range(0,size,blocksize):\n",
    "            for block_k in range(0,size,blocksize): \n",
    "                for i in range(blocksize): \n",
    "                    for j in range(blocksize): \n",
    "                        for k in range(blocksize): \n",
    "                            C[block_i+i][block_j+j] += A[block_i+i][block_k+k] * B[block_k+k][block_j+j]\n",
    "                        \n",
    "                        \n",
    "                        "
   ]
  },
  {
   "cell_type": "code",
   "execution_count": 98,
   "metadata": {},
   "outputs": [
    {
     "name": "stdout",
     "output_type": "stream",
     "text": [
      "--- 178.2190763950348 seconds ---\n"
     ]
    }
   ],
   "source": [
    "#Following section starts block matrix multiply with different block sizes\n",
    "\n",
    "\n",
    "blocksize=2\n",
    "C=np.zeros((size,size),np.uint32)\n",
    "\n",
    "start_time = time.time()\n",
    "block_mat_mult(A,B,C,blocksize)\n",
    "stop_time = time.time()\n",
    "print(\"--- %s seconds ---\" % (stop_time - start_time))"
   ]
  },
  {
   "cell_type": "code",
   "execution_count": 99,
   "metadata": {},
   "outputs": [
    {
     "data": {
      "text/plain": [
       "8192"
      ]
     },
     "execution_count": 99,
     "metadata": {},
     "output_type": "execute_result"
    }
   ],
   "source": [
    "C[50][50]"
   ]
  },
  {
   "cell_type": "code",
   "execution_count": 100,
   "metadata": {},
   "outputs": [
    {
     "name": "stdout",
     "output_type": "stream",
     "text": [
      "--- 153.36588215827942 seconds ---\n"
     ]
    }
   ],
   "source": [
    "blocksize=4\n",
    "C=np.zeros((size,size),np.uint32)\n",
    "\n",
    "start_time = time.time()\n",
    "block_mat_mult(A,B,C,blocksize)\n",
    "stop_time = time.time()\n",
    "print(\"--- %s seconds ---\" % (stop_time - start_time))"
   ]
  },
  {
   "cell_type": "code",
   "execution_count": 101,
   "metadata": {},
   "outputs": [
    {
     "data": {
      "text/plain": [
       "8192"
      ]
     },
     "execution_count": 101,
     "metadata": {},
     "output_type": "execute_result"
    }
   ],
   "source": [
    "C[50][50]"
   ]
  },
  {
   "cell_type": "code",
   "execution_count": 102,
   "metadata": {},
   "outputs": [
    {
     "name": "stdout",
     "output_type": "stream",
     "text": [
      "--- 146.72848176956177 seconds ---\n"
     ]
    }
   ],
   "source": [
    "blocksize=8\n",
    "C=np.zeros((size,size),np.uint32)\n",
    "\n",
    "start_time = time.time()\n",
    "block_mat_mult(A,B,C,blocksize)\n",
    "stop_time = time.time()\n",
    "print(\"--- %s seconds ---\" % (stop_time - start_time))"
   ]
  },
  {
   "cell_type": "code",
   "execution_count": 103,
   "metadata": {},
   "outputs": [
    {
     "data": {
      "text/plain": [
       "8192"
      ]
     },
     "execution_count": 103,
     "metadata": {},
     "output_type": "execute_result"
    }
   ],
   "source": [
    "C[50][50]"
   ]
  },
  {
   "cell_type": "code",
   "execution_count": 104,
   "metadata": {},
   "outputs": [
    {
     "name": "stdout",
     "output_type": "stream",
     "text": [
      "--- 144.0063190460205 seconds ---\n"
     ]
    }
   ],
   "source": [
    "blocksize=16\n",
    "C=np.zeros((size,size),np.uint32)\n",
    "\n",
    "start_time = time.time()\n",
    "block_mat_mult(A,B,C,blocksize)\n",
    "stop_time = time.time()\n",
    "print(\"--- %s seconds ---\" % (stop_time - start_time))"
   ]
  },
  {
   "cell_type": "code",
   "execution_count": 105,
   "metadata": {},
   "outputs": [
    {
     "data": {
      "text/plain": [
       "8192"
      ]
     },
     "execution_count": 105,
     "metadata": {},
     "output_type": "execute_result"
    }
   ],
   "source": [
    "C[50][50]"
   ]
  },
  {
   "cell_type": "code",
   "execution_count": 131,
   "metadata": {},
   "outputs": [
    {
     "name": "stdout",
     "output_type": "stream",
     "text": [
      "--- 1164.3540587425232 seconds ---\n"
     ]
    }
   ],
   "source": [
    "blocksize=32\n",
    "C=np.zeros((size,size),np.uint32)\n",
    "\n",
    "start_time = time.time()\n",
    "block_mat_mult(A,B,C,blocksize)\n",
    "stop_time = time.time()\n",
    "print(\"--- %s seconds ---\" % (stop_time - start_time))"
   ]
  },
  {
   "cell_type": "code",
   "execution_count": 132,
   "metadata": {},
   "outputs": [
    {
     "data": {
      "text/plain": [
       "16384"
      ]
     },
     "execution_count": 132,
     "metadata": {},
     "output_type": "execute_result"
    }
   ],
   "source": [
    "C[50][50]"
   ]
  },
  {
   "cell_type": "code",
   "execution_count": 133,
   "metadata": {},
   "outputs": [
    {
     "name": "stdout",
     "output_type": "stream",
     "text": [
      "--- 1140.8415098190308 seconds ---\n"
     ]
    }
   ],
   "source": [
    "blocksize=64\n",
    "C=np.zeros((size,size),np.uint32)\n",
    "\n",
    "start_time = time.time()\n",
    "block_mat_mult(A,B,C,blocksize)\n",
    "stop_time = time.time()\n",
    "print(\"--- %s seconds ---\" % (stop_time - start_time))"
   ]
  },
  {
   "cell_type": "code",
   "execution_count": 134,
   "metadata": {},
   "outputs": [
    {
     "data": {
      "text/plain": [
       "16384"
      ]
     },
     "execution_count": 134,
     "metadata": {},
     "output_type": "execute_result"
    }
   ],
   "source": [
    "C[50][50]"
   ]
  },
  {
   "cell_type": "code",
   "execution_count": 135,
   "metadata": {},
   "outputs": [
    {
     "name": "stdout",
     "output_type": "stream",
     "text": [
      "--- 1146.9094297885895 seconds ---\n"
     ]
    }
   ],
   "source": [
    "blocksize=128\n",
    "C=np.zeros((size,size),np.uint32)\n",
    "\n",
    "start_time = time.time()\n",
    "block_mat_mult(A,B,C,blocksize)\n",
    "stop_time = time.time()\n",
    "print(\"--- %s seconds ---\" % (stop_time - start_time))"
   ]
  },
  {
   "cell_type": "code",
   "execution_count": 112,
   "metadata": {},
   "outputs": [
    {
     "name": "stdout",
     "output_type": "stream",
     "text": [
      "--- 141.3049819469452 seconds ---\n"
     ]
    }
   ],
   "source": [
    "blocksize=256\n",
    "C=np.zeros((size,size),np.uint32)\n",
    "\n",
    "start_time = time.time()\n",
    "block_mat_mult(A,B,C,blocksize)\n",
    "stop_time = time.time()\n",
    "print(\"--- %s seconds ---\" % (stop_time - start_time))"
   ]
  },
  {
   "cell_type": "code",
   "execution_count": 150,
   "metadata": {},
   "outputs": [
    {
     "name": "stdout",
     "output_type": "stream",
     "text": [
      "--- 30.661344528198242 seconds ---\n"
     ]
    }
   ],
   "source": [
    "#numpy function\n",
    "\n",
    "C=np.zeros((size,size),np.uint32)\n",
    "\n",
    "start_time = time.time()\n",
    "np.matmul(A,B,C)\n",
    "stop_time = time.time()\n",
    "print(\"--- %s seconds ---\" % (stop_time - start_time))"
   ]
  },
  {
   "cell_type": "code",
   "execution_count": 151,
   "metadata": {},
   "outputs": [
    {
     "data": {
      "text/plain": [
       "65536"
      ]
     },
     "execution_count": 151,
     "metadata": {},
     "output_type": "execute_result"
    }
   ],
   "source": [
    "C[50][50]"
   ]
  },
  {
   "cell_type": "code",
   "execution_count": null,
   "metadata": {},
   "outputs": [],
   "source": []
  }
 ],
 "metadata": {
  "kernelspec": {
   "display_name": "Python 3",
   "language": "python",
   "name": "python3"
  },
  "language_info": {
   "codemirror_mode": {
    "name": "ipython",
    "version": 3
   },
   "file_extension": ".py",
   "mimetype": "text/x-python",
   "name": "python",
   "nbconvert_exporter": "python",
   "pygments_lexer": "ipython3",
   "version": "3.7.7"
  }
 },
 "nbformat": 4,
 "nbformat_minor": 4
}
